{
 "cells": [
  {
   "cell_type": "markdown",
   "metadata": {},
   "source": [
    "First, let's create a variable to represent the current incomes and performance review scores. This will be a list of tuples, and in each tuple the first element will be the person's review score and the second will be their current income."
   ]
  },
  {
   "cell_type": "code",
   "execution_count": 6,
   "metadata": {
    "collapsed": true
   },
   "outputs": [],
   "source": [
    "olddata = [\n",
    "\t(3, 31000),\n",
    "\t(2, 29000),\n",
    "\t(3, 30500),\n",
    "\t(2, 41000),\n",
    "\t(1, 52000),\n",
    "\t(2, 44000),\n",
    "\t(3, 57000),\n",
    "\t(1, 43000),\n",
    "\t(3, 25000),\n",
    "\t(3, 73000),\n",
    "\t(1, 57000)\n",
    "]"
   ]
  },
  {
   "cell_type": "markdown",
   "metadata": {},
   "source": [
    "Now, to streamline things let's define a function that performs the work for us. We'll call it `addbonus` and it will take two arguments, the person's performance review score and their income. It will calculate a new income based on their performance review score and return that new income."
   ]
  },
  {
   "cell_type": "code",
   "execution_count": 7,
   "metadata": {
    "collapsed": true
   },
   "outputs": [],
   "source": [
    "def addbonus(prscore, income):\n",
    "\tif prscore == 3:\n",
    "\t\tnewincome = income + income * 0.1\n",
    "\telif prscore == 2:\n",
    "\t\tnewincome = income + income * 0.05\n",
    "\telif prscore == 1:\n",
    "\t\tnewincome = income + income * 0.01\n",
    "\treturn newincome"
   ]
  },
  {
   "cell_type": "markdown",
   "metadata": {},
   "source": [
    "Finally, let's initialize an empty list to store the updated incomes, and then use a `for` loop to iterate through each item in olddata and calculate a new income for each person. We'll store the new incomes in the list `newincomes`."
   ]
  },
  {
   "cell_type": "code",
   "execution_count": 9,
   "metadata": {
    "collapsed": false
   },
   "outputs": [],
   "source": [
    "newincomes = []\n",
    "\n",
    "for d in olddata:\n",
    "    newincome = addbonus(d[0], d[1])\n",
    "    newincomes.append(newincome)"
   ]
  },
  {
   "cell_type": "markdown",
   "metadata": {},
   "source": [
    "Let's take a look at what the new incomes look like."
   ]
  },
  {
   "cell_type": "code",
   "execution_count": 10,
   "metadata": {
    "collapsed": false
   },
   "outputs": [
    {
     "data": {
      "text/plain": [
       "[34100.0,\n",
       " 30450.0,\n",
       " 33550.0,\n",
       " 43050.0,\n",
       " 52520.0,\n",
       " 46200.0,\n",
       " 62700.0,\n",
       " 43430.0,\n",
       " 27500.0,\n",
       " 80300.0,\n",
       " 57570.0]"
      ]
     },
     "execution_count": 10,
     "metadata": {},
     "output_type": "execute_result"
    }
   ],
   "source": [
    "newincomes"
   ]
  },
  {
   "cell_type": "code",
   "execution_count": null,
   "metadata": {
    "collapsed": true
   },
   "outputs": [],
   "source": []
  }
 ],
 "metadata": {
  "anaconda-cloud": {},
  "kernelspec": {
   "display_name": "Python [Root]",
   "language": "python",
   "name": "Python [Root]"
  },
  "language_info": {
   "codemirror_mode": {
    "name": "ipython",
    "version": 3
   },
   "file_extension": ".py",
   "mimetype": "text/x-python",
   "name": "python",
   "nbconvert_exporter": "python",
   "pygments_lexer": "ipython3",
   "version": "3.5.2"
  }
 },
 "nbformat": 4,
 "nbformat_minor": 0
}
